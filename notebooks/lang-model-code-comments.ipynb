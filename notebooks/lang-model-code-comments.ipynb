{
 "cells": [
  {
   "cell_type": "code",
   "execution_count": 3,
   "metadata": {},
   "outputs": [],
   "source": [
    "%reload_ext autoreload\n",
    "%autoreload 2\n",
    "%matplotlib inline\n",
    "import os\n",
    "os.environ[\"CUDA_VISIBLE_DEVICES\"]=\"2\"\n",
    "\n",
    "from fastai.text import *\n",
    "BOS = '_xbos_ ' "
   ]
  },
  {
   "cell_type": "markdown",
   "metadata": {},
   "source": [
    "### Read In Files From Ho-Hsiang"
   ]
  },
  {
   "cell_type": "code",
   "execution_count": 4,
   "metadata": {},
   "outputs": [],
   "source": [
    "from pathlib import Path\n",
    "PATH = Path('/ds/hohsiangwu/projects/semantic_search/')\n",
    "\n",
    "with open(PATH/'train.docstring', 'r') as f:\n",
    "    t_comment = f.readlines()\n",
    "\n",
    "with open(PATH/'valid.docstring', 'r') as f:\n",
    "    v_comment = f.readlines()\n",
    "\n",
    "with open(PATH/'test.docstring', 'r') as f:\n",
    "    holdout_comment = f.readlines()"
   ]
  },
  {
   "cell_type": "markdown",
   "metadata": {},
   "source": [
    "### Process Files For Language Model"
   ]
  },
  {
   "cell_type": "code",
   "execution_count": 5,
   "metadata": {},
   "outputs": [],
   "source": [
    "def list_flatten(l):\n",
    "    \"List[List] --> List\"\n",
    "    return [item for sublist in l for item in sublist]"
   ]
  },
  {
   "cell_type": "markdown",
   "metadata": {},
   "source": [
    "- Append begininng of sentence tag \n",
    "- concatenate all text together"
   ]
  },
  {
   "cell_type": "code",
   "execution_count": 6,
   "metadata": {},
   "outputs": [],
   "source": [
    "#\n",
    "tok_trn = list_flatten([(BOS + x).split() for x in t_comment])\n",
    "tok_val = list_flatten([(BOS + x).split() for x in v_comment])"
   ]
  },
  {
   "cell_type": "markdown",
   "metadata": {},
   "source": [
    "Build Vocabulary Dict:\n",
    "- index to string\n",
    "- string to index\n",
    "- use default dict so unknowns are mapped to zero"
   ]
  },
  {
   "cell_type": "code",
   "execution_count": 7,
   "metadata": {},
   "outputs": [
    {
     "ename": "KeyboardInterrupt",
     "evalue": "",
     "output_type": "error",
     "traceback": [
      "\u001b[0;31m---------------------------------------------------------------------------\u001b[0m",
      "\u001b[0;31mKeyboardInterrupt\u001b[0m                         Traceback (most recent call last)",
      "\u001b[0;32m<ipython-input-7-12df99301cd8>\u001b[0m in \u001b[0;36m<module>\u001b[0;34m()\u001b[0m\n\u001b[1;32m      3\u001b[0m \u001b[0;34m\u001b[0m\u001b[0m\n\u001b[1;32m      4\u001b[0m \u001b[0;31m# index to string\u001b[0m\u001b[0;34m\u001b[0m\u001b[0;34m\u001b[0m\u001b[0m\n\u001b[0;32m----> 5\u001b[0;31m \u001b[0mfreq\u001b[0m \u001b[0;34m=\u001b[0m \u001b[0mCounter\u001b[0m\u001b[0;34m(\u001b[0m\u001b[0mtok_trn\u001b[0m\u001b[0;34m)\u001b[0m \u001b[0;31m# on training set, then applied to val\u001b[0m\u001b[0;34m\u001b[0m\u001b[0m\n\u001b[0m\u001b[1;32m      6\u001b[0m \u001b[0mitos\u001b[0m \u001b[0;34m=\u001b[0m \u001b[0;34m[\u001b[0m\u001b[0mo\u001b[0m \u001b[0;32mfor\u001b[0m \u001b[0mo\u001b[0m\u001b[0;34m,\u001b[0m\u001b[0mc\u001b[0m \u001b[0;32min\u001b[0m \u001b[0mfreq\u001b[0m\u001b[0;34m.\u001b[0m\u001b[0mmost_common\u001b[0m\u001b[0;34m(\u001b[0m\u001b[0mmax_vocab\u001b[0m\u001b[0;34m)\u001b[0m \u001b[0;32mif\u001b[0m \u001b[0mc\u001b[0m\u001b[0;34m>\u001b[0m\u001b[0mmin_freq\u001b[0m\u001b[0;34m]\u001b[0m\u001b[0;34m\u001b[0m\u001b[0m\n\u001b[1;32m      7\u001b[0m \u001b[0mitos\u001b[0m\u001b[0;34m.\u001b[0m\u001b[0minsert\u001b[0m\u001b[0;34m(\u001b[0m\u001b[0;36m0\u001b[0m\u001b[0;34m,\u001b[0m \u001b[0;34m'_pad_'\u001b[0m\u001b[0;34m)\u001b[0m\u001b[0;34m\u001b[0m\u001b[0m\n",
      "\u001b[0;32m/opt/conda/lib/python3.6/collections/__init__.py\u001b[0m in \u001b[0;36m__init__\u001b[0;34m(*args, **kwds)\u001b[0m\n\u001b[1;32m    533\u001b[0m             \u001b[0;32mraise\u001b[0m \u001b[0mTypeError\u001b[0m\u001b[0;34m(\u001b[0m\u001b[0;34m'expected at most 1 arguments, got %d'\u001b[0m \u001b[0;34m%\u001b[0m \u001b[0mlen\u001b[0m\u001b[0;34m(\u001b[0m\u001b[0margs\u001b[0m\u001b[0;34m)\u001b[0m\u001b[0;34m)\u001b[0m\u001b[0;34m\u001b[0m\u001b[0m\n\u001b[1;32m    534\u001b[0m         \u001b[0msuper\u001b[0m\u001b[0;34m(\u001b[0m\u001b[0mCounter\u001b[0m\u001b[0;34m,\u001b[0m \u001b[0mself\u001b[0m\u001b[0;34m)\u001b[0m\u001b[0;34m.\u001b[0m\u001b[0m__init__\u001b[0m\u001b[0;34m(\u001b[0m\u001b[0;34m)\u001b[0m\u001b[0;34m\u001b[0m\u001b[0m\n\u001b[0;32m--> 535\u001b[0;31m         \u001b[0mself\u001b[0m\u001b[0;34m.\u001b[0m\u001b[0mupdate\u001b[0m\u001b[0;34m(\u001b[0m\u001b[0;34m*\u001b[0m\u001b[0margs\u001b[0m\u001b[0;34m,\u001b[0m \u001b[0;34m**\u001b[0m\u001b[0mkwds\u001b[0m\u001b[0;34m)\u001b[0m\u001b[0;34m\u001b[0m\u001b[0m\n\u001b[0m\u001b[1;32m    536\u001b[0m \u001b[0;34m\u001b[0m\u001b[0m\n\u001b[1;32m    537\u001b[0m     \u001b[0;32mdef\u001b[0m \u001b[0m__missing__\u001b[0m\u001b[0;34m(\u001b[0m\u001b[0mself\u001b[0m\u001b[0;34m,\u001b[0m \u001b[0mkey\u001b[0m\u001b[0;34m)\u001b[0m\u001b[0;34m:\u001b[0m\u001b[0;34m\u001b[0m\u001b[0m\n",
      "\u001b[0;32m/opt/conda/lib/python3.6/collections/__init__.py\u001b[0m in \u001b[0;36mupdate\u001b[0;34m(*args, **kwds)\u001b[0m\n\u001b[1;32m    620\u001b[0m                     \u001b[0msuper\u001b[0m\u001b[0;34m(\u001b[0m\u001b[0mCounter\u001b[0m\u001b[0;34m,\u001b[0m \u001b[0mself\u001b[0m\u001b[0;34m)\u001b[0m\u001b[0;34m.\u001b[0m\u001b[0mupdate\u001b[0m\u001b[0;34m(\u001b[0m\u001b[0miterable\u001b[0m\u001b[0;34m)\u001b[0m \u001b[0;31m# fast path when counter is empty\u001b[0m\u001b[0;34m\u001b[0m\u001b[0m\n\u001b[1;32m    621\u001b[0m             \u001b[0;32melse\u001b[0m\u001b[0;34m:\u001b[0m\u001b[0;34m\u001b[0m\u001b[0m\n\u001b[0;32m--> 622\u001b[0;31m                 \u001b[0m_count_elements\u001b[0m\u001b[0;34m(\u001b[0m\u001b[0mself\u001b[0m\u001b[0;34m,\u001b[0m \u001b[0miterable\u001b[0m\u001b[0;34m)\u001b[0m\u001b[0;34m\u001b[0m\u001b[0m\n\u001b[0m\u001b[1;32m    623\u001b[0m         \u001b[0;32mif\u001b[0m \u001b[0mkwds\u001b[0m\u001b[0;34m:\u001b[0m\u001b[0;34m\u001b[0m\u001b[0m\n\u001b[1;32m    624\u001b[0m             \u001b[0mself\u001b[0m\u001b[0;34m.\u001b[0m\u001b[0mupdate\u001b[0m\u001b[0;34m(\u001b[0m\u001b[0mkwds\u001b[0m\u001b[0;34m)\u001b[0m\u001b[0;34m\u001b[0m\u001b[0m\n",
      "\u001b[0;31mKeyboardInterrupt\u001b[0m: "
     ]
    }
   ],
   "source": [
    "max_vocab = 30000\n",
    "min_freq = 25\n",
    "\n",
    "# index to string\n",
    "freq = Counter(tok_trn) # on training set, then applied to val\n",
    "itos = [o for o,c in freq.most_common(max_vocab) if c>min_freq]\n",
    "itos.insert(0, '_pad_')\n",
    "itos.insert(0, '_unk_')\n",
    "\n",
    "# string to index\n",
    "stoi = collections.defaultdict(lambda:0, {v:k for k,v in enumerate(itos)})\n",
    "len(itos)"
   ]
  },
  {
   "cell_type": "markdown",
   "metadata": {},
   "source": [
    "Save Index2String Dict"
   ]
  },
  {
   "cell_type": "code",
   "execution_count": 11,
   "metadata": {},
   "outputs": [],
   "source": [
    "# save itos\n",
    "import pickle\n",
    "with open('itos_dict.pkl', 'wb') as f:\n",
    "    pickle.dump(itos, f)"
   ]
  },
  {
   "cell_type": "markdown",
   "metadata": {},
   "source": [
    "Vectorize List of Strings"
   ]
  },
  {
   "cell_type": "code",
   "execution_count": 7,
   "metadata": {},
   "outputs": [
    {
     "data": {
      "text/plain": [
       "(67358009, 2832093)"
      ]
     },
     "execution_count": 7,
     "metadata": {},
     "output_type": "execute_result"
    }
   ],
   "source": [
    "trn_lm = np.array([stoi[s] for s in tok_trn])\n",
    "val_lm = np.array([stoi[s] for s in tok_val])\n",
    "len(trn_lm), len(val_lm)"
   ]
  },
  {
   "cell_type": "code",
   "execution_count": 8,
   "metadata": {},
   "outputs": [],
   "source": [
    "# PATH = Path('/ds/hamel/CodeML/Get_Python_From_BigQuery/')\n",
    "# np.save(PATH/'trn_lm.npy', trn_lm)\n",
    "# np.save(PATH/'val_lm.npy', val_lm)"
   ]
  },
  {
   "cell_type": "markdown",
   "metadata": {},
   "source": [
    "# Build Language Model Using Fastai  (You Can Run From Here)"
   ]
  },
  {
   "cell_type": "code",
   "execution_count": 38,
   "metadata": {},
   "outputs": [
    {
     "name": "stdout",
     "output_type": "stream",
     "text": [
      "total 16K\r\n",
      "drwxr-xr-x 4 root root 6.0K Apr 24 00:13 .\r\n",
      "drwxr-xr-x 9 1001 1001 6.0K May  3 02:30 ..\r\n",
      "drwxr-xr-x 2 root root 6.0K Apr 30 23:21 models\r\n",
      "drwxr-xr-x 2 root root 6.0K Apr 24 00:13 tmp\r\n"
     ]
    }
   ],
   "source": [
    "! ls -lah code_comment_lm"
   ]
  },
  {
   "cell_type": "code",
   "execution_count": 8,
   "metadata": {},
   "outputs": [],
   "source": [
    "%reload_ext autoreload\n",
    "%autoreload 2\n",
    "%matplotlib inline\n",
    "import pickle\n",
    "\n",
    "PATH = Path('/ds/hamel/CodeML/Get_Python_From_BigQuery/')\n",
    "from fastai.text import *\n",
    "\n",
    "trn_lm = np.load(PATH/'trn_lm.npy')\n",
    "val_lm = np.load(PATH/'val_lm.npy')\n",
    "\n",
    "with open(PATH/'lm_itos_dict.pkl', 'rb') as f:\n",
    "    itos = pickle.load(f)\n",
    "\n",
    "stoi = collections.defaultdict(lambda:0, {v:k for k,v in enumerate(itos)})"
   ]
  },
  {
   "cell_type": "code",
   "execution_count": 34,
   "metadata": {},
   "outputs": [
    {
     "data": {
      "text/plain": [
       "['_xbos_',\n",
       " 'render',\n",
       " 'this',\n",
       " 'object',\n",
       " 'as',\n",
       " 'a',\n",
       " 'dict',\n",
       " 'of',\n",
       " 'its',\n",
       " 'fields']"
      ]
     },
     "execution_count": 34,
     "metadata": {},
     "output_type": "execute_result"
    }
   ],
   "source": [
    "[itos[x] for x in trn_lm[:10]]"
   ]
  },
  {
   "cell_type": "code",
   "execution_count": 36,
   "metadata": {},
   "outputs": [
    {
     "name": "stdout",
     "output_type": "stream",
     "text": [
      "models\ttmp\r\n"
     ]
    }
   ],
   "source": [
    "!ls /ds/hamel/fastai/courses/dl1/code_comment_lm"
   ]
  },
  {
   "cell_type": "code",
   "execution_count": 2,
   "metadata": {},
   "outputs": [],
   "source": [
    "PATH=Path('/ds/hamel/fastai/courses/dl1/code_comment_lm')\n",
    "#PATH.mkdir(exist_ok=True)\n",
    "\n",
    "em_sz,nh,nl = 400,400,3\n",
    "wd=1e-7\n",
    "bptt=20\n",
    "bs=32\n",
    "vs=len(itos)\n",
    "\n",
    "\n",
    "with torch.cuda.device(3):\n",
    "    torch.cuda.empty_cache()\n",
    "    trn_dl = LanguageModelLoader(trn_lm, bs, bptt)\n",
    "    val_dl = LanguageModelLoader(val_lm, bs, bptt)\n",
    "    md = LanguageModelData(PATH, 1, vs, trn_dl, val_dl, bs=bs, bptt=bptt)"
   ]
  },
  {
   "cell_type": "code",
   "execution_count": 3,
   "metadata": {},
   "outputs": [],
   "source": [
    "with torch.cuda.device(3):\n",
    "    torch.cuda.empty_cache()\n",
    "    opt_fn = partial(optim.Adam, betas=(0.8, 0.99))\n",
    "    drops = np.array([0.25, 0.1, 0.2, 0.02, 0.15])*0.7\n",
    "    learner= md.get_model(opt_fn, em_sz, nh, nl, \n",
    "                            dropouti=drops[0], \n",
    "                            dropout=drops[1], \n",
    "                            wdrop=drops[2], \n",
    "                            dropoute=drops[3], \n",
    "                            dropouth=drops[4])\n",
    "    lr=1e-3\n",
    "    lrs = lr\n",
    "    #learner.lr_find(start_lr=lrs/10, end_lr=lrs*10, linear=True)"
   ]
  },
  {
   "cell_type": "code",
   "execution_count": 4,
   "metadata": {},
   "outputs": [],
   "source": [
    "lr = 1e-3 / 2"
   ]
  },
  {
   "cell_type": "code",
   "execution_count": null,
   "metadata": {},
   "outputs": [],
   "source": [
    "'code_comment_lm_v3.fai'"
   ]
  },
  {
   "cell_type": "code",
   "execution_count": 5,
   "metadata": {},
   "outputs": [
    {
     "data": {
      "application/vnd.jupyter.widget-view+json": {
       "model_id": "da4823b430bd4dc1807f4b71255558b2",
       "version_major": 2,
       "version_minor": 0
      },
      "text/plain": [
       "HBox(children=(IntProgress(value=0, description='Epoch', max=3), HTML(value='')))"
      ]
     },
     "metadata": {},
     "output_type": "display_data"
    },
    {
     "name": "stdout",
     "output_type": "stream",
     "text": [
      "  1%|          | 644/105245 [00:20<55:05, 31.64it/s, loss=6.32]  "
     ]
    },
    {
     "ename": "KeyboardInterrupt",
     "evalue": "",
     "output_type": "error",
     "traceback": [
      "\u001b[0;31m---------------------------------------------------------------------------\u001b[0m",
      "\u001b[0;31mKeyboardInterrupt\u001b[0m                         Traceback (most recent call last)",
      "\u001b[0;32m<ipython-input-5-657d40fb96e3>\u001b[0m in \u001b[0;36m<module>\u001b[0;34m()\u001b[0m\n\u001b[1;32m      1\u001b[0m \u001b[0;32mwith\u001b[0m \u001b[0mtorch\u001b[0m\u001b[0;34m.\u001b[0m\u001b[0mcuda\u001b[0m\u001b[0;34m.\u001b[0m\u001b[0mdevice\u001b[0m\u001b[0;34m(\u001b[0m\u001b[0;36m3\u001b[0m\u001b[0;34m)\u001b[0m\u001b[0;34m:\u001b[0m\u001b[0;34m\u001b[0m\u001b[0m\n\u001b[0;32m----> 2\u001b[0;31m     \u001b[0mlearner\u001b[0m\u001b[0;34m.\u001b[0m\u001b[0mfit\u001b[0m\u001b[0;34m(\u001b[0m\u001b[0mlrs\u001b[0m\u001b[0;34m,\u001b[0m \u001b[0;36m1\u001b[0m\u001b[0;34m,\u001b[0m \u001b[0mwds\u001b[0m\u001b[0;34m=\u001b[0m\u001b[0mwd\u001b[0m\u001b[0;34m,\u001b[0m \u001b[0mcycle_len\u001b[0m\u001b[0;34m=\u001b[0m\u001b[0;36m3\u001b[0m\u001b[0;34m,\u001b[0m \u001b[0muse_clr\u001b[0m\u001b[0;34m=\u001b[0m\u001b[0;34m(\u001b[0m\u001b[0;36m32\u001b[0m\u001b[0;34m,\u001b[0m\u001b[0;36m10\u001b[0m\u001b[0;34m)\u001b[0m\u001b[0;34m)\u001b[0m\u001b[0;34m\u001b[0m\u001b[0m\n\u001b[0m",
      "\u001b[0;32m~/hamel/fastai/courses/dl1/fastai/learner.py\u001b[0m in \u001b[0;36mfit\u001b[0;34m(self, lrs, n_cycle, wds, **kwargs)\u001b[0m\n\u001b[1;32m    285\u001b[0m         \u001b[0mself\u001b[0m\u001b[0;34m.\u001b[0m\u001b[0msched\u001b[0m \u001b[0;34m=\u001b[0m \u001b[0;32mNone\u001b[0m\u001b[0;34m\u001b[0m\u001b[0m\n\u001b[1;32m    286\u001b[0m         \u001b[0mlayer_opt\u001b[0m \u001b[0;34m=\u001b[0m \u001b[0mself\u001b[0m\u001b[0;34m.\u001b[0m\u001b[0mget_layer_opt\u001b[0m\u001b[0;34m(\u001b[0m\u001b[0mlrs\u001b[0m\u001b[0;34m,\u001b[0m \u001b[0mwds\u001b[0m\u001b[0;34m)\u001b[0m\u001b[0;34m\u001b[0m\u001b[0m\n\u001b[0;32m--> 287\u001b[0;31m         \u001b[0;32mreturn\u001b[0m \u001b[0mself\u001b[0m\u001b[0;34m.\u001b[0m\u001b[0mfit_gen\u001b[0m\u001b[0;34m(\u001b[0m\u001b[0mself\u001b[0m\u001b[0;34m.\u001b[0m\u001b[0mmodel\u001b[0m\u001b[0;34m,\u001b[0m \u001b[0mself\u001b[0m\u001b[0;34m.\u001b[0m\u001b[0mdata\u001b[0m\u001b[0;34m,\u001b[0m \u001b[0mlayer_opt\u001b[0m\u001b[0;34m,\u001b[0m \u001b[0mn_cycle\u001b[0m\u001b[0;34m,\u001b[0m \u001b[0;34m**\u001b[0m\u001b[0mkwargs\u001b[0m\u001b[0;34m)\u001b[0m\u001b[0;34m\u001b[0m\u001b[0m\n\u001b[0m\u001b[1;32m    288\u001b[0m \u001b[0;34m\u001b[0m\u001b[0m\n\u001b[1;32m    289\u001b[0m     \u001b[0;32mdef\u001b[0m \u001b[0mwarm_up\u001b[0m\u001b[0;34m(\u001b[0m\u001b[0mself\u001b[0m\u001b[0;34m,\u001b[0m \u001b[0mlr\u001b[0m\u001b[0;34m,\u001b[0m \u001b[0mwds\u001b[0m\u001b[0;34m=\u001b[0m\u001b[0;32mNone\u001b[0m\u001b[0;34m)\u001b[0m\u001b[0;34m:\u001b[0m\u001b[0;34m\u001b[0m\u001b[0m\n",
      "\u001b[0;32m~/hamel/fastai/courses/dl1/fastai/learner.py\u001b[0m in \u001b[0;36mfit_gen\u001b[0;34m(self, model, data, layer_opt, n_cycle, cycle_len, cycle_mult, cycle_save_name, best_save_name, use_clr, use_clr_beta, metrics, callbacks, use_wd_sched, norm_wds, wds_sched_mult, use_swa, swa_start, swa_eval_freq, **kwargs)\u001b[0m\n\u001b[1;32m    232\u001b[0m             \u001b[0mmetrics\u001b[0m\u001b[0;34m=\u001b[0m\u001b[0mmetrics\u001b[0m\u001b[0;34m,\u001b[0m \u001b[0mcallbacks\u001b[0m\u001b[0;34m=\u001b[0m\u001b[0mcallbacks\u001b[0m\u001b[0;34m,\u001b[0m \u001b[0mreg_fn\u001b[0m\u001b[0;34m=\u001b[0m\u001b[0mself\u001b[0m\u001b[0;34m.\u001b[0m\u001b[0mreg_fn\u001b[0m\u001b[0;34m,\u001b[0m \u001b[0mclip\u001b[0m\u001b[0;34m=\u001b[0m\u001b[0mself\u001b[0m\u001b[0;34m.\u001b[0m\u001b[0mclip\u001b[0m\u001b[0;34m,\u001b[0m \u001b[0mfp16\u001b[0m\u001b[0;34m=\u001b[0m\u001b[0mself\u001b[0m\u001b[0;34m.\u001b[0m\u001b[0mfp16\u001b[0m\u001b[0;34m,\u001b[0m\u001b[0;34m\u001b[0m\u001b[0m\n\u001b[1;32m    233\u001b[0m             \u001b[0mswa_model\u001b[0m\u001b[0;34m=\u001b[0m\u001b[0mself\u001b[0m\u001b[0;34m.\u001b[0m\u001b[0mswa_model\u001b[0m \u001b[0;32mif\u001b[0m \u001b[0muse_swa\u001b[0m \u001b[0;32melse\u001b[0m \u001b[0;32mNone\u001b[0m\u001b[0;34m,\u001b[0m \u001b[0mswa_start\u001b[0m\u001b[0;34m=\u001b[0m\u001b[0mswa_start\u001b[0m\u001b[0;34m,\u001b[0m\u001b[0;34m\u001b[0m\u001b[0m\n\u001b[0;32m--> 234\u001b[0;31m             swa_eval_freq=swa_eval_freq, **kwargs)\n\u001b[0m\u001b[1;32m    235\u001b[0m \u001b[0;34m\u001b[0m\u001b[0m\n\u001b[1;32m    236\u001b[0m     \u001b[0;32mdef\u001b[0m \u001b[0mget_layer_groups\u001b[0m\u001b[0;34m(\u001b[0m\u001b[0mself\u001b[0m\u001b[0;34m)\u001b[0m\u001b[0;34m:\u001b[0m \u001b[0;32mreturn\u001b[0m \u001b[0mself\u001b[0m\u001b[0;34m.\u001b[0m\u001b[0mmodels\u001b[0m\u001b[0;34m.\u001b[0m\u001b[0mget_layer_groups\u001b[0m\u001b[0;34m(\u001b[0m\u001b[0;34m)\u001b[0m\u001b[0;34m\u001b[0m\u001b[0m\n",
      "\u001b[0;32m~/hamel/fastai/courses/dl1/fastai/model.py\u001b[0m in \u001b[0;36mfit\u001b[0;34m(model, data, n_epochs, opt, crit, metrics, callbacks, stepper, swa_model, swa_start, swa_eval_freq, **kwargs)\u001b[0m\n\u001b[1;32m    127\u001b[0m             \u001b[0mbatch_num\u001b[0m \u001b[0;34m+=\u001b[0m \u001b[0;36m1\u001b[0m\u001b[0;34m\u001b[0m\u001b[0m\n\u001b[1;32m    128\u001b[0m             \u001b[0;32mfor\u001b[0m \u001b[0mcb\u001b[0m \u001b[0;32min\u001b[0m \u001b[0mcallbacks\u001b[0m\u001b[0;34m:\u001b[0m \u001b[0mcb\u001b[0m\u001b[0;34m.\u001b[0m\u001b[0mon_batch_begin\u001b[0m\u001b[0;34m(\u001b[0m\u001b[0;34m)\u001b[0m\u001b[0;34m\u001b[0m\u001b[0m\n\u001b[0;32m--> 129\u001b[0;31m             \u001b[0mloss\u001b[0m \u001b[0;34m=\u001b[0m \u001b[0mmodel_stepper\u001b[0m\u001b[0;34m.\u001b[0m\u001b[0mstep\u001b[0m\u001b[0;34m(\u001b[0m\u001b[0mV\u001b[0m\u001b[0;34m(\u001b[0m\u001b[0mx\u001b[0m\u001b[0;34m)\u001b[0m\u001b[0;34m,\u001b[0m\u001b[0mV\u001b[0m\u001b[0;34m(\u001b[0m\u001b[0my\u001b[0m\u001b[0;34m)\u001b[0m\u001b[0;34m,\u001b[0m \u001b[0mepoch\u001b[0m\u001b[0;34m)\u001b[0m\u001b[0;34m\u001b[0m\u001b[0m\n\u001b[0m\u001b[1;32m    130\u001b[0m             \u001b[0mavg_loss\u001b[0m \u001b[0;34m=\u001b[0m \u001b[0mavg_loss\u001b[0m \u001b[0;34m*\u001b[0m \u001b[0mavg_mom\u001b[0m \u001b[0;34m+\u001b[0m \u001b[0mloss\u001b[0m \u001b[0;34m*\u001b[0m \u001b[0;34m(\u001b[0m\u001b[0;36m1\u001b[0m\u001b[0;34m-\u001b[0m\u001b[0mavg_mom\u001b[0m\u001b[0;34m)\u001b[0m\u001b[0;34m\u001b[0m\u001b[0m\n\u001b[1;32m    131\u001b[0m             \u001b[0mdebias_loss\u001b[0m \u001b[0;34m=\u001b[0m \u001b[0mavg_loss\u001b[0m \u001b[0;34m/\u001b[0m \u001b[0;34m(\u001b[0m\u001b[0;36m1\u001b[0m \u001b[0;34m-\u001b[0m \u001b[0mavg_mom\u001b[0m\u001b[0;34m**\u001b[0m\u001b[0mbatch_num\u001b[0m\u001b[0;34m)\u001b[0m\u001b[0;34m\u001b[0m\u001b[0m\n",
      "\u001b[0;32m~/hamel/fastai/courses/dl1/fastai/model.py\u001b[0m in \u001b[0;36mstep\u001b[0;34m(self, xs, y, epoch)\u001b[0m\n\u001b[1;32m     63\u001b[0m             \u001b[0mcopy_fp32_to_model\u001b[0m\u001b[0;34m(\u001b[0m\u001b[0mself\u001b[0m\u001b[0;34m.\u001b[0m\u001b[0mm\u001b[0m\u001b[0;34m,\u001b[0m \u001b[0mself\u001b[0m\u001b[0;34m.\u001b[0m\u001b[0mfp32_params\u001b[0m\u001b[0;34m)\u001b[0m\u001b[0;34m\u001b[0m\u001b[0m\n\u001b[1;32m     64\u001b[0m             \u001b[0mtorch\u001b[0m\u001b[0;34m.\u001b[0m\u001b[0mcuda\u001b[0m\u001b[0;34m.\u001b[0m\u001b[0msynchronize\u001b[0m\u001b[0;34m(\u001b[0m\u001b[0;34m)\u001b[0m\u001b[0;34m\u001b[0m\u001b[0m\n\u001b[0;32m---> 65\u001b[0;31m         \u001b[0;32mreturn\u001b[0m \u001b[0mtorch_item\u001b[0m\u001b[0;34m(\u001b[0m\u001b[0mraw_loss\u001b[0m\u001b[0;34m.\u001b[0m\u001b[0mdata\u001b[0m\u001b[0;34m)\u001b[0m\u001b[0;34m\u001b[0m\u001b[0m\n\u001b[0m\u001b[1;32m     66\u001b[0m \u001b[0;34m\u001b[0m\u001b[0m\n\u001b[1;32m     67\u001b[0m     \u001b[0;32mdef\u001b[0m \u001b[0mevaluate\u001b[0m\u001b[0;34m(\u001b[0m\u001b[0mself\u001b[0m\u001b[0;34m,\u001b[0m \u001b[0mxs\u001b[0m\u001b[0;34m,\u001b[0m \u001b[0my\u001b[0m\u001b[0;34m)\u001b[0m\u001b[0;34m:\u001b[0m\u001b[0;34m\u001b[0m\u001b[0m\n",
      "\u001b[0;32m~/hamel/fastai/courses/dl1/fastai/model.py\u001b[0m in \u001b[0;36mtorch_item\u001b[0;34m(x)\u001b[0m\n\u001b[1;32m     27\u001b[0m         \u001b[0;32mif\u001b[0m \u001b[0mres\u001b[0m \u001b[0;32mis\u001b[0m \u001b[0;32mnot\u001b[0m \u001b[0;32mNone\u001b[0m\u001b[0;34m:\u001b[0m \u001b[0;32mreturn\u001b[0m \u001b[0mres\u001b[0m\u001b[0;34m\u001b[0m\u001b[0m\n\u001b[1;32m     28\u001b[0m \u001b[0;34m\u001b[0m\u001b[0m\n\u001b[0;32m---> 29\u001b[0;31m \u001b[0;32mdef\u001b[0m \u001b[0mtorch_item\u001b[0m\u001b[0;34m(\u001b[0m\u001b[0mx\u001b[0m\u001b[0;34m)\u001b[0m\u001b[0;34m:\u001b[0m \u001b[0;32mreturn\u001b[0m \u001b[0mx\u001b[0m\u001b[0;34m.\u001b[0m\u001b[0mitem\u001b[0m\u001b[0;34m(\u001b[0m\u001b[0;34m)\u001b[0m \u001b[0;32mif\u001b[0m \u001b[0mhasattr\u001b[0m\u001b[0;34m(\u001b[0m\u001b[0mx\u001b[0m\u001b[0;34m,\u001b[0m\u001b[0;34m'item'\u001b[0m\u001b[0;34m)\u001b[0m \u001b[0;32melse\u001b[0m \u001b[0mx\u001b[0m\u001b[0;34m[\u001b[0m\u001b[0;36m0\u001b[0m\u001b[0;34m]\u001b[0m\u001b[0;34m\u001b[0m\u001b[0m\n\u001b[0m\u001b[1;32m     30\u001b[0m \u001b[0;34m\u001b[0m\u001b[0m\n\u001b[1;32m     31\u001b[0m \u001b[0;32mclass\u001b[0m \u001b[0mStepper\u001b[0m\u001b[0;34m(\u001b[0m\u001b[0;34m)\u001b[0m\u001b[0;34m:\u001b[0m\u001b[0;34m\u001b[0m\u001b[0m\n",
      "\u001b[0;31mKeyboardInterrupt\u001b[0m: "
     ]
    }
   ],
   "source": [
    "with torch.cuda.device(3):\n",
    "    learner.fit(lrs, 1, wds=wd, cycle_len=3, use_clr=(32,10))"
   ]
  },
  {
   "cell_type": "code",
   "execution_count": 6,
   "metadata": {},
   "outputs": [
    {
     "data": {
      "image/png": "[encoded data removed]",
      "text/plain": [
       "<Figure size 432x288 with 1 Axes>"
      ]
     },
     "metadata": {},
     "output_type": "display_data"
    }
   ],
   "source": [
    "learner.sched.plot_loss()"
   ]
  },
  {
   "cell_type": "code",
   "execution_count": 7,
   "metadata": {},
   "outputs": [],
   "source": [
    "# learner.save('code_comment_lm_v3.fai')\n",
    "# learner.save_encoder('code_comment_lm_encoder_v3.fai')"
   ]
  },
  {
   "cell_type": "code",
   "execution_count": 6,
   "metadata": {},
   "outputs": [
    {
     "name": "stdout",
     "output_type": "stream",
     "text": [
      "\r",
      "  1%|          | 644/105245 [00:40<1:48:17, 16.10it/s, loss=6.32]"
     ]
    }
   ],
   "source": [
    "learner.load('code_comment_lm_v3.fai')"
   ]
  },
  {
   "cell_type": "markdown",
   "metadata": {},
   "source": [
    "# Vectorize All Comments (Create Universal Sent Encoder For Comments)"
   ]
  },
  {
   "cell_type": "code",
   "execution_count": 7,
   "metadata": {},
   "outputs": [],
   "source": [
    "import pickle\n",
    "import collections\n",
    "\n",
    "with open('itos_dict.pkl', 'rb') as f:\n",
    "    itos = pickle.load(f)"
   ]
  },
  {
   "cell_type": "code",
   "execution_count": 10,
   "metadata": {},
   "outputs": [],
   "source": [
    "from pathlib import Path\n",
    "PATH = Path('/ds/hohsiangwu/projects/semantic_search/')\n",
    "\n",
    "with open(PATH/'train.docstring', 'r') as f:\n",
    "    t_comment = f.readlines()\n",
    "\n",
    "with open(PATH/'valid.docstring', 'r') as f:\n",
    "    v_comment = f.readlines()\n",
    "\n",
    "with open(PATH/'test.docstring', 'r') as f:\n",
    "    holdout_comment = f.readlines()\n",
    "\n",
    "\n",
    "# The reason you are rebuilding this is that the data fed into the language model was completely flattened and\n",
    "#  concatenated, whereas here you want to maintain the list of \n",
    "tok_trn_list = [(BOS + x).split() for x in t_comment]\n",
    "tok_val_list = [(BOS + x).split() for x in v_comment]\n",
    "tok_hld_list = [(BOS + x).split() for x in holdout_comment]"
   ]
  },
  {
   "cell_type": "code",
   "execution_count": 11,
   "metadata": {},
   "outputs": [],
   "source": [
    "stoi = collections.defaultdict(lambda:0, {v:k for k,v in enumerate(itos)})"
   ]
  },
  {
   "cell_type": "code",
   "execution_count": 12,
   "metadata": {},
   "outputs": [],
   "source": [
    "idx_trn_list = [[stoi[a] for a in x] for x in tok_trn_list]\n",
    "idx_val_list = [[stoi[a] for a in x] for x in tok_val_list]\n",
    "idx_hld_list = [[stoi[a] for a in x] for x in tok_hld_list]"
   ]
  },
  {
   "cell_type": "code",
   "execution_count": 17,
   "metadata": {},
   "outputs": [],
   "source": [
    "import numpy as np\n",
    "\n",
    "def list2arr(l):\n",
    "    \"Convert list into pytorch Variable.\"\n",
    "    return V(np.expand_dims(np.array(l), -1)).cpu()\n",
    "\n",
    "def make_prediction_from_list(model, l):\n",
    "    \"\"\"\n",
    "    Encode a list of integers that represent a sequence of tokens.  The\n",
    "    purpose is to encode a sentence or phrase.\n",
    "    \n",
    "    Parameters\n",
    "    -----------\n",
    "    model : fastai language model\n",
    "    l : list\n",
    "        list of integers, representing a sequence of tokens that you want to encode\n",
    "        \n",
    "    \"\"\"\n",
    "    #with torch.cuda.device(3):\n",
    "    arr = list2arr(l)# turn list into pytorch Variable with bs=1\n",
    "    model.reset()  # language model is stateful, so you must reset upon each prediction\n",
    "    hidden_states = model(arr)[-1][-1] # RNN Hidden Layer output is last output, and only need the last layer\n",
    "    \n",
    "    #return avg-pooling, max-pooling, and last hidden state\n",
    "    return hidden_states.mean(0), hidden_states.max(0)[0], hidden_states[-1]"
   ]
  },
  {
   "cell_type": "code",
   "execution_count": 24,
   "metadata": {},
   "outputs": [],
   "source": [
    "def get_embeddings(lm_model, list_list_int):\n",
    "    \"\"\"\n",
    "    Vectorize a list of sequences List[List[int]] using a fast.ai language model. \n",
    "    \n",
    "    Paramters\n",
    "    ---------\n",
    "    lm_model : fastai language model\n",
    "    list_list_int : List[List[int]]\n",
    "        A list of sequences to encode\n",
    "        \n",
    "    Returns\n",
    "    -------\n",
    "    tuple: (avg, mean, last)\n",
    "        A tuple that returns the average-pooling, max-pooling over time steps as well as the last time step.\n",
    "    \"\"\"\n",
    "    avg_embs, mean_embs, last_embs = [], [], []\n",
    "\n",
    "    for i in tqdm_notebook(range(len(list_list_int))):\n",
    "        avg_, max_, last_ = make_prediction_from_list(lm_model, list_list_int[i])\n",
    "        avg_embs.append(avg_)\n",
    "        mean_embs.append(max_)\n",
    "        last_embs.append(last_)\n",
    "    \n",
    "    return torch.cat(avg_embs), torch.cat(mean_embs), torch.cat(last_embs)"
   ]
  },
  {
   "cell_type": "code",
   "execution_count": 39,
   "metadata": {},
   "outputs": [
    {
     "data": {
      "text/plain": [
       "SequentialRNN(\n",
       "  (0): RNN_Encoder(\n",
       "    (encoder): Embedding(33243, 400, padding_idx=1)\n",
       "    (encoder_with_dropout): EmbeddingDropout(\n",
       "      (embed): Embedding(33243, 400, padding_idx=1)\n",
       "    )\n",
       "    (rnns): ModuleList(\n",
       "      (0): WeightDrop(\n",
       "        (module): LSTM(400, 400, dropout=0.105)\n",
       "      )\n",
       "      (1): WeightDrop(\n",
       "        (module): LSTM(400, 400, dropout=0.105)\n",
       "      )\n",
       "      (2): WeightDrop(\n",
       "        (module): LSTM(400, 400, dropout=0.105)\n",
       "      )\n",
       "    )\n",
       "    (dropouti): LockedDropout(\n",
       "    )\n",
       "    (dropouths): ModuleList(\n",
       "      (0): LockedDropout(\n",
       "      )\n",
       "      (1): LockedDropout(\n",
       "      )\n",
       "      (2): LockedDropout(\n",
       "      )\n",
       "    )\n",
       "  )\n",
       "  (1): LinearDecoder(\n",
       "    (decoder): Linear(in_features=400, out_features=33243, bias=False)\n",
       "    (dropout): LockedDropout(\n",
       "    )\n",
       "  )\n",
       ")"
      ]
     },
     "execution_count": 39,
     "metadata": {},
     "output_type": "execute_result"
    }
   ],
   "source": [
    "learner.load('code_comment_lm_v3.fai')\n",
    "learner.model.eval() # make sure dropout and bn are not activated during prediction\n",
    "learner.model.cpu()\n",
    "#train_avg_emb, train_mean_emb, train_last_emb = get_embeddings(learner.model.cpu(), idx_trn_list)"
   ]
  },
  {
   "cell_type": "code",
   "execution_count": 28,
   "metadata": {},
   "outputs": [],
   "source": [
    "#PATH = Path('/ds/hamel/CodeML/Get_Python_From_BigQuery/')"
   ]
  },
  {
   "cell_type": "code",
   "execution_count": 40,
   "metadata": {},
   "outputs": [],
   "source": [
    "# torch.save(train_avg_emb, PATH/'train_avg_emb.torchtensor')\n",
    "# torch.save(train_mean_emb, PATH/'train_max_emb.torchtensor') #supposed to be max, not mean!\n",
    "# torch.save(train_last_emb, PATH/'train_last_emb.torchtensor')"
   ]
  },
  {
   "cell_type": "code",
   "execution_count": 45,
   "metadata": {},
   "outputs": [],
   "source": [
    "# np.save(PATH/'train_avg_emb.npy', train_avg_emb.data.numpy())\n",
    "# np.save(PATH/'train_max_emb.npy', train_mean_emb.data.numpy())\n",
    "# np.save(PATH/'train_last_emb.npy', train_last_emb.data.numpy())"
   ]
  },
  {
   "cell_type": "code",
   "execution_count": 49,
   "metadata": {},
   "outputs": [
    {
     "data": {
      "application/vnd.jupyter.widget-view+json": {
       "model_id": "7ba797cd3bb5458cb515aeb21e7dba7b",
       "version_major": 2,
       "version_minor": 0
      },
      "text/plain": [
       "HBox(children=(IntProgress(value=0, max=201155), HTML(value='')))"
      ]
     },
     "metadata": {},
     "output_type": "display_data"
    },
    {
     "name": "stdout",
     "output_type": "stream",
     "text": [
      "\n"
     ]
    }
   ],
   "source": [
    "# val_avg_emb, val_max_emb, val_last_emb = get_embeddings(learner.model.cpu(), idx_val_list)"
   ]
  },
  {
   "cell_type": "code",
   "execution_count": 50,
   "metadata": {},
   "outputs": [],
   "source": [
    "# torch.save(val_avg_emb, PATH/'val_avg_emb.torchtensor')\n",
    "# torch.save(val_max_emb, PATH/'val_max_emb.torchtensor') #supposed to be max, not mean!\n",
    "# torch.save(val_last_emb, PATH/'val_last_emb.torchtensor')"
   ]
  },
  {
   "cell_type": "code",
   "execution_count": 51,
   "metadata": {},
   "outputs": [],
   "source": [
    "# np.save(PATH/'val_avg_emb.npy', val_avg_emb.data.numpy())\n",
    "# np.save(PATH/'val_max_emb.npy', val_max_emb.data.numpy())\n",
    "# np.save(PATH/'val_last_emb.npy', val_last_emb.data.numpy())"
   ]
  },
  {
   "cell_type": "markdown",
   "metadata": {},
   "source": [
    "The concatenation, etc of these vectors are continued in the CPU notebook."
   ]
  },
  {
   "cell_type": "markdown",
   "metadata": {},
   "source": [
    "# Save Lang Model Artificacts"
   ]
  },
  {
   "cell_type": "code",
   "execution_count": 52,
   "metadata": {},
   "outputs": [],
   "source": [
    "# import pickle\n",
    "# PATH = Path('/ds/hamel/CodeML/Get_Python_From_BigQuery/')\n",
    "\n",
    "# with open(PATH/'lm_itos_dict.pkl', 'wb') as f:\n",
    "#     pickle.dump(itos, f)"
   ]
  },
  {
   "cell_type": "code",
   "execution_count": 54,
   "metadata": {},
   "outputs": [],
   "source": [
    "lm_fastai_codecomment_model = learner.model.cpu()\n",
    "\n",
    "PATH = Path('/ds/hamel/CodeML/Get_Python_From_BigQuery/')\n",
    "torch.save(lm_fastai_codecomment_model, PATH/'lm_fastai_codecomment_model.pytorch')"
   ]
  },
  {
   "cell_type": "code",
   "execution_count": 80,
   "metadata": {},
   "outputs": [],
   "source": [
    "# Test the model\n",
    "\n",
    "\n",
    "#notice all the stuff you have to do to make sure its on cpu\n",
    "\n",
    "# x_arr = np.expand_dims(np.array(idx_val_list[0]), -1)\n",
    "# test_model.eval()\n",
    "# results = test_model(V(T(x_arr)).cpu())\n",
    "# test_model.reset()"
   ]
  },
  {
   "cell_type": "code",
   "execution_count": 41,
   "metadata": {},
   "outputs": [],
   "source": [
    "lm_fastai_codecomment_model = learner.model.cpu()\n",
    "PATH = Path('/ds/hamel/CodeML/Get_Python_From_BigQuery/')\n",
    "torch.save(lm_fastai_codecomment_model.state_dict(), PATH/'lm_fastai_codecomment_model_state_dict.pytorch')"
   ]
  },
  {
   "cell_type": "code",
   "execution_count": 8,
   "metadata": {},
   "outputs": [],
   "source": [
    "test_dict = torch.load(PATH/'lm_fastai_codecomment_model_state_dict.pytorch')"
   ]
  },
  {
   "cell_type": "code",
   "execution_count": 15,
   "metadata": {},
   "outputs": [],
   "source": [
    "learner.model.load_state_dict(test_dict)"
   ]
  },
  {
   "cell_type": "code",
   "execution_count": 16,
   "metadata": {},
   "outputs": [],
   "source": [
    "learner.model.eval() # make sure dropout and bn are not activated during prediction\n",
    "test_model = learner.model.cpu()"
   ]
  },
  {
   "cell_type": "code",
   "execution_count": 17,
   "metadata": {},
   "outputs": [
    {
     "data": {
      "text/plain": [
       "SequentialRNN(\n",
       "  (0): RNN_Encoder(\n",
       "    (encoder): Embedding(33243, 400, padding_idx=1)\n",
       "    (encoder_with_dropout): EmbeddingDropout(\n",
       "      (embed): Embedding(33243, 400, padding_idx=1)\n",
       "    )\n",
       "    (rnns): ModuleList(\n",
       "      (0): WeightDrop(\n",
       "        (module): LSTM(400, 400, dropout=0.105)\n",
       "      )\n",
       "      (1): WeightDrop(\n",
       "        (module): LSTM(400, 400, dropout=0.105)\n",
       "      )\n",
       "      (2): WeightDrop(\n",
       "        (module): LSTM(400, 400, dropout=0.105)\n",
       "      )\n",
       "    )\n",
       "    (dropouti): LockedDropout(\n",
       "    )\n",
       "    (dropouths): ModuleList(\n",
       "      (0): LockedDropout(\n",
       "      )\n",
       "      (1): LockedDropout(\n",
       "      )\n",
       "      (2): LockedDropout(\n",
       "      )\n",
       "    )\n",
       "  )\n",
       "  (1): LinearDecoder(\n",
       "    (decoder): Linear(in_features=400, out_features=33243, bias=False)\n",
       "    (dropout): LockedDropout(\n",
       "    )\n",
       "  )\n",
       ")"
      ]
     },
     "execution_count": 17,
     "metadata": {},
     "output_type": "execute_result"
    }
   ],
   "source": [
    "test_model"
   ]
  },
  {
   "cell_type": "code",
   "execution_count": 22,
   "metadata": {},
   "outputs": [
    {
     "data": {
      "text/plain": [
       "(Variable containing:\n",
       " -1.9948e-01 -6.0683e+00 -1.6551e+00  ...  -6.0885e+00 -6.0862e+00 -6.0683e+00\n",
       "  1.9821e+00 -5.8145e+00  7.9009e-01  ...  -5.8813e+00 -5.8475e+00 -5.8146e+00\n",
       "  3.8231e-01 -8.7099e+00 -1.1992e+00  ...  -8.7257e+00 -8.7168e+00 -8.7099e+00\n",
       "                 ...                   ⋱                   ...                \n",
       "  6.6529e-01 -9.1462e+00 -1.7246e+00  ...  -9.1607e+00 -9.1521e+00 -9.1462e+00\n",
       " -1.5618e-01 -9.9707e+00 -4.2412e+00  ...  -9.9758e+00 -9.9622e+00 -9.9707e+00\n",
       "  3.1648e+00 -7.1095e+00  9.1025e+00  ...  -7.1357e+00 -7.1131e+00 -7.1095e+00\n",
       " [torch.FloatTensor of size 10x33243], [Variable containing:\n",
       "  ( 0 ,.,.) = \n",
       "   -3.3752e-02 -5.8660e-01  3.0104e-03  ...  -4.3180e-03  1.9405e-04 -5.8076e-04\n",
       "  \n",
       "  ( 1 ,.,.) = \n",
       "    6.9109e-02 -7.8205e-03 -1.5085e-01  ...  -6.8334e-03 -8.9473e-04  6.3504e-02\n",
       "  \n",
       "  ( 2 ,.,.) = \n",
       "    8.2495e-05  6.2996e-02 -8.6196e-02  ...   5.4503e-03  1.2820e-02  7.6637e-06\n",
       "  ... \n",
       "  \n",
       "  ( 7 ,.,.) = \n",
       "    1.8740e-04 -2.6275e-02 -1.9584e-02  ...   9.4858e-03 -4.1296e-01  2.0350e-02\n",
       "  \n",
       "  ( 8 ,.,.) = \n",
       "    9.7006e-04  5.4827e-01 -2.0219e-02  ...   4.6218e-03 -3.1774e-02  8.4720e-02\n",
       "  \n",
       "  ( 9 ,.,.) = \n",
       "    1.9952e-01  1.2865e-02 -5.7523e-03  ...   3.3903e-04 -4.7655e-04 -5.2961e-03\n",
       "  [torch.FloatTensor of size 10x1x400], Variable containing:\n",
       "  ( 0 ,.,.) = \n",
       "    1.1044e-02  1.9170e-01  2.2044e-03  ...   2.4857e-03  6.7897e-02 -9.4716e-03\n",
       "  \n",
       "  ( 1 ,.,.) = \n",
       "   -3.7100e-01  1.7624e-03  4.1646e-02  ...  -1.9213e-01  3.0189e-03 -1.4618e-01\n",
       "  \n",
       "  ( 2 ,.,.) = \n",
       "   -1.9678e-02  5.8238e-02 -2.9056e-03  ...  -9.8343e-03 -5.3188e-05 -4.9627e-02\n",
       "  ... \n",
       "  \n",
       "  ( 7 ,.,.) = \n",
       "    6.9005e-04  1.6729e-03 -1.3977e-01  ...   5.3245e-03 -1.0771e-03 -1.7479e-02\n",
       "  \n",
       "  ( 8 ,.,.) = \n",
       "    1.9658e-05  1.5645e-01 -9.0592e-03  ...   1.2536e-01 -2.6326e-04 -7.7989e-03\n",
       "  \n",
       "  ( 9 ,.,.) = \n",
       "    4.5020e-04  1.8184e-02 -2.3321e-01  ...  -1.9642e-01 -1.3272e-02 -1.3858e-01\n",
       "  [torch.FloatTensor of size 10x1x400], Variable containing:\n",
       "  ( 0 ,.,.) = \n",
       "   -8.3784e-02 -1.2366e-01 -4.5763e-03  ...   1.4088e-01  2.3160e-02  1.6579e-02\n",
       "  \n",
       "  ( 1 ,.,.) = \n",
       "    1.0026e-02  2.5861e-04 -3.5999e-03  ...   1.6859e-02  5.2949e-03  3.5296e-02\n",
       "  \n",
       "  ( 2 ,.,.) = \n",
       "    1.7713e-01 -1.7961e-01  1.0430e-01  ...   4.8649e-04 -2.1132e-01 -1.4650e-02\n",
       "  ... \n",
       "  \n",
       "  ( 7 ,.,.) = \n",
       "    1.0125e-01  7.5279e-02 -4.1263e-03  ...  -1.3016e-03 -1.9892e-02  3.0247e-02\n",
       "  \n",
       "  ( 8 ,.,.) = \n",
       "    5.5009e-02 -4.5345e-01 -5.2930e-03  ...   3.5153e-03 -3.5104e-02  6.1875e-03\n",
       "  \n",
       "  ( 9 ,.,.) = \n",
       "    4.6364e-03  7.6946e-03 -1.1887e-02  ...   2.8283e-01  1.0168e-02  1.5855e-02\n",
       "  [torch.FloatTensor of size 10x1x400]], [Variable containing:\n",
       "  ( 0 ,.,.) = \n",
       "   -3.3752e-02 -5.8660e-01  3.0104e-03  ...  -4.3180e-03  1.9405e-04 -5.8076e-04\n",
       "  \n",
       "  ( 1 ,.,.) = \n",
       "    6.9109e-02 -7.8205e-03 -1.5085e-01  ...  -6.8334e-03 -8.9473e-04  6.3504e-02\n",
       "  \n",
       "  ( 2 ,.,.) = \n",
       "    8.2495e-05  6.2996e-02 -8.6196e-02  ...   5.4503e-03  1.2820e-02  7.6637e-06\n",
       "  ... \n",
       "  \n",
       "  ( 7 ,.,.) = \n",
       "    1.8740e-04 -2.6275e-02 -1.9584e-02  ...   9.4858e-03 -4.1296e-01  2.0350e-02\n",
       "  \n",
       "  ( 8 ,.,.) = \n",
       "    9.7006e-04  5.4827e-01 -2.0219e-02  ...   4.6218e-03 -3.1774e-02  8.4720e-02\n",
       "  \n",
       "  ( 9 ,.,.) = \n",
       "    1.9952e-01  1.2865e-02 -5.7523e-03  ...   3.3903e-04 -4.7655e-04 -5.2961e-03\n",
       "  [torch.FloatTensor of size 10x1x400], Variable containing:\n",
       "  ( 0 ,.,.) = \n",
       "    1.1044e-02  1.9170e-01  2.2044e-03  ...   2.4857e-03  6.7897e-02 -9.4716e-03\n",
       "  \n",
       "  ( 1 ,.,.) = \n",
       "   -3.7100e-01  1.7624e-03  4.1646e-02  ...  -1.9213e-01  3.0189e-03 -1.4618e-01\n",
       "  \n",
       "  ( 2 ,.,.) = \n",
       "   -1.9678e-02  5.8238e-02 -2.9056e-03  ...  -9.8343e-03 -5.3188e-05 -4.9627e-02\n",
       "  ... \n",
       "  \n",
       "  ( 7 ,.,.) = \n",
       "    6.9005e-04  1.6729e-03 -1.3977e-01  ...   5.3245e-03 -1.0771e-03 -1.7479e-02\n",
       "  \n",
       "  ( 8 ,.,.) = \n",
       "    1.9658e-05  1.5645e-01 -9.0592e-03  ...   1.2536e-01 -2.6326e-04 -7.7989e-03\n",
       "  \n",
       "  ( 9 ,.,.) = \n",
       "    4.5020e-04  1.8184e-02 -2.3321e-01  ...  -1.9642e-01 -1.3272e-02 -1.3858e-01\n",
       "  [torch.FloatTensor of size 10x1x400], Variable containing:\n",
       "  ( 0 ,.,.) = \n",
       "   -8.3784e-02 -1.2366e-01 -4.5763e-03  ...   1.4088e-01  2.3160e-02  1.6579e-02\n",
       "  \n",
       "  ( 1 ,.,.) = \n",
       "    1.0026e-02  2.5861e-04 -3.5999e-03  ...   1.6859e-02  5.2949e-03  3.5296e-02\n",
       "  \n",
       "  ( 2 ,.,.) = \n",
       "    1.7713e-01 -1.7961e-01  1.0430e-01  ...   4.8649e-04 -2.1132e-01 -1.4650e-02\n",
       "  ... \n",
       "  \n",
       "  ( 7 ,.,.) = \n",
       "    1.0125e-01  7.5279e-02 -4.1263e-03  ...  -1.3016e-03 -1.9892e-02  3.0247e-02\n",
       "  \n",
       "  ( 8 ,.,.) = \n",
       "    5.5009e-02 -4.5345e-01 -5.2930e-03  ...   3.5153e-03 -3.5104e-02  6.1875e-03\n",
       "  \n",
       "  ( 9 ,.,.) = \n",
       "    4.6364e-03  7.6946e-03 -1.1887e-02  ...   2.8283e-01  1.0168e-02  1.5855e-02\n",
       "  [torch.FloatTensor of size 10x1x400]])"
      ]
     },
     "execution_count": 22,
     "metadata": {},
     "output_type": "execute_result"
    }
   ],
   "source": [
    "test_model.reset()\n",
    "test_model(V(T(np.expand_dims(trn_lm[0:10], -1))).cpu())"
   ]
  },
  {
   "cell_type": "code",
   "execution_count": 9,
   "metadata": {},
   "outputs": [
    {
     "data": {
      "text/plain": [
       "Variable containing:\n",
       "    2\n",
       "  566\n",
       "   18\n",
       "   40\n",
       "   36\n",
       "    5\n",
       "  108\n",
       "    7\n",
       "  144\n",
       "  250\n",
       "[torch.LongTensor of size 10x1]"
      ]
     },
     "execution_count": 9,
     "metadata": {},
     "output_type": "execute_result"
    }
   ],
   "source": [
    "V(T(np.expand_dims(trn_lm[0:10], -1))).cpu()"
   ]
  },
  {
   "cell_type": "code",
   "execution_count": null,
   "metadata": {},
   "outputs": [],
   "source": []
  }
 ],
 "metadata": {
  "kernelspec": {
   "display_name": "Python 3",
   "language": "python",
   "name": "python3"
  },
  "language_info": {
   "codemirror_mode": {
    "name": "ipython",
    "version": 3
   },
   "file_extension": ".py",
   "mimetype": "text/x-python",
   "name": "python",
   "nbconvert_exporter": "python",
   "pygments_lexer": "ipython3",
   "version": "3.6.3"
  }
 },
 "nbformat": 4,
 "nbformat_minor": 2
}
